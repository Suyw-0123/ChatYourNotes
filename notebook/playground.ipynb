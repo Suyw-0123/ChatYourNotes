{
 "cells": [
  {
   "cell_type": "markdown",
   "id": "974bb2ce",
   "metadata": {},
   "source": [
    "## Clear\n",
    "after test"
   ]
  }
 ],
 "metadata": {
  "kernelspec": {
   "display_name": "env1",
   "language": "python",
   "name": "python3"
  },
  "language_info": {
   "name": "python",
   "version": "3.11.13"
  }
 },
 "nbformat": 4,
 "nbformat_minor": 5
}
